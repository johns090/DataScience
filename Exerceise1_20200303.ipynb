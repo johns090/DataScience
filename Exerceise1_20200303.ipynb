{
 "cells": [
  {
   "cell_type": "code",
   "execution_count": 1,
   "metadata": {},
   "outputs": [
    {
     "name": "stdout",
     "output_type": "stream",
     "text": [
      "C:\\Users\\John\\DataScienceLevel1\n"
     ]
    }
   ],
   "source": [
    "import os\n",
    "\n",
    "print (os.getcwd() )"
   ]
  },
  {
   "cell_type": "code",
   "execution_count": 5,
   "metadata": {},
   "outputs": [
    {
     "name": "stdout",
     "output_type": "stream",
     "text": [
      "This is the 1st line written. \n",
      "This is the 2nd line written. \n"
     ]
    }
   ],
   "source": [
    "filehandle = open(\"simpleio.txt\", \"r\")\n",
    "\n",
    "for line in filehandle:\n",
    "    print(line, end=\"\")\n",
    "\n",
    "filehandle.close()\n"
   ]
  },
  {
   "cell_type": "code",
   "execution_count": 6,
   "metadata": {},
   "outputs": [],
   "source": [
    "filehandle = open(\"simpleio.txt\", \"w\")\n",
    "\n",
    "filehandle.write('This is the 1st line written. \\n')\n",
    "filehandle.write('This is the 2nd line written. \\n')\n",
    "filehandle.write('End of Text. \\n')\n",
    "\n",
    "filehandle.close()\n"
   ]
  },
  {
   "cell_type": "code",
   "execution_count": 1,
   "metadata": {},
   "outputs": [
    {
     "name": "stdout",
     "output_type": "stream",
     "text": [
      "Please input username, age, rating: abc,1,2\n",
      "Please input username, age, rating: dgh,3,4\n",
      "Please input username, age, rating: ghy,6,7\n"
     ]
    }
   ],
   "source": [
    "\n",
    "import csv\n",
    "\n",
    "record = input(\"Please input username, age, rating: \")\n",
    "recordlist1 = record.split(\",\")\n",
    "record = input(\"Please input username, age, rating: \")\n",
    "recordlist2 = record.split(\",\")\n",
    "record = input(\"Please input username, age, rating: \")\n",
    "recordlist3 = record.split(\",\")\n",
    "\n",
    "recordslist = [recordlist1,recordlist2,recordlist3 ]\n",
    "\n",
    "#print (recordslist)\n",
    "\n",
    "    \n",
    "with open('users_01.csv', 'w', newline='') as csvfile:\n",
    "    filewriter = csv.writer(csvfile)\n",
    "    for oneline in recordslist:\n",
    "        filewriter.writerow(oneline)\n",
    "\n"
   ]
  },
  {
   "cell_type": "code",
   "execution_count": 2,
   "metadata": {},
   "outputs": [
    {
     "name": "stdout",
     "output_type": "stream",
     "text": [
      "abc,1,2\n",
      "dgh,3,4\n",
      "ghy,6,7\n"
     ]
    }
   ],
   "source": [
    "filehandle = open(\"users_01.csv\", \"r\")\n",
    "\n",
    "for line in filehandle:\n",
    "    print(line, end=\"\")\n",
    "\n",
    "filehandle.close()"
   ]
  },
  {
   "cell_type": "code",
   "execution_count": null,
   "metadata": {},
   "outputs": [],
   "source": []
  }
 ],
 "metadata": {
  "kernelspec": {
   "display_name": "Python 3",
   "language": "python",
   "name": "python3"
  },
  "language_info": {
   "codemirror_mode": {
    "name": "ipython",
    "version": 3
   },
   "file_extension": ".py",
   "mimetype": "text/x-python",
   "name": "python",
   "nbconvert_exporter": "python",
   "pygments_lexer": "ipython3",
   "version": "3.7.3"
  }
 },
 "nbformat": 4,
 "nbformat_minor": 2
}
